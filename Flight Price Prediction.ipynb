{
 "cells": [
  {
   "cell_type": "markdown",
   "metadata": {},
   "source": [
    "# Flight Price Prediction"
   ]
  },
  {
   "cell_type": "markdown",
   "metadata": {},
   "source": [
    "### Overview\n",
    "\n",
    "Flight ticket prices can be something hard to guess, today we might see a price, check out the price of the same flight tomorrow, it will be a different story. We might have often heard travellers saying that flight ticket prices are so unpredictable. Huh! Here we take on the challenge! As data scientists, we are gonna prove that given the right data anything can be predicted. Here you will be provided with prices of flight tickets for various airlines between the months of March and June of 2019 and between various cities.\n",
    "\n",
    "* Size of training set: 10683 records \n",
    "* Size of test set: 2671 records \n",
    "\n",
    "#### FEATURES: \n",
    "\n",
    "* **Airline:** The name of the airline. \n",
    "* **Date_of_Journey:** The date of the journey \n",
    "* **Source:** The source from which the service begins. \n",
    "* **Destination:** The destination where the service ends. \n",
    "* **Route:** The route taken by the flight to reach the destination. \n",
    "* **Dep_Time:** The time when the journey starts from the source. \n",
    "* **Arrival_Time:** Time of arrival at the destination. \n",
    "* **Duration:** Total duration of the flight. \n",
    "* **Total_Stops:** Total stops between the source and destination. \n",
    "* **Additional_Info:** Additional information about the flight \n",
    "* **Price:** The price of the ticket"
   ]
  },
  {
   "cell_type": "markdown",
   "metadata": {},
   "source": [
    "#### Importing Libraries"
   ]
  },
  {
   "cell_type": "code",
   "execution_count": 1,
   "metadata": {},
   "outputs": [],
   "source": [
    "import pandas as pd\n",
    "import numpy as np\n",
    "import matplotlib.pyplot as plt"
   ]
  },
  {
   "cell_type": "markdown",
   "metadata": {},
   "source": [
    "#### Importing the Train and Test data"
   ]
  },
  {
   "cell_type": "code",
   "execution_count": 2,
   "metadata": {},
   "outputs": [],
   "source": [
    "train_df = pd.read_excel(\"./Data/Flight_Ticket_Participant_Datasets/Data_Train.xlsx\")\n",
    "test_df = pd.read_excel(\"./Data/Flight_Ticket_Participant_Datasets/Test_set.xlsx\")"
   ]
  },
  {
   "cell_type": "markdown",
   "metadata": {},
   "source": [
    "#### Exploratory Data Analysis"
   ]
  },
  {
   "cell_type": "markdown",
   "metadata": {},
   "source": [
    "* What Airlines do we have and what are the flight counts given to us?"
   ]
  },
  {
   "cell_type": "markdown",
   "metadata": {},
   "source": [
    "*Train Data*"
   ]
  },
  {
   "cell_type": "code",
   "execution_count": 3,
   "metadata": {},
   "outputs": [
    {
     "data": {
      "text/plain": [
       "Jet Airways                          3849\n",
       "IndiGo                               2053\n",
       "Air India                            1752\n",
       "Multiple carriers                    1196\n",
       "SpiceJet                              818\n",
       "Vistara                               479\n",
       "Air Asia                              319\n",
       "GoAir                                 194\n",
       "Multiple carriers Premium economy      13\n",
       "Jet Airways Business                    6\n",
       "Vistara Premium economy                 3\n",
       "Trujet                                  1\n",
       "Name: Airline, dtype: int64"
      ]
     },
     "execution_count": 3,
     "metadata": {},
     "output_type": "execute_result"
    }
   ],
   "source": [
    "train_df.Airline.value_counts()"
   ]
  },
  {
   "cell_type": "markdown",
   "metadata": {},
   "source": [
    "*Test Data*"
   ]
  },
  {
   "cell_type": "code",
   "execution_count": 4,
   "metadata": {},
   "outputs": [
    {
     "data": {
      "text/plain": [
       "Jet Airways                          897\n",
       "IndiGo                               511\n",
       "Air India                            440\n",
       "Multiple carriers                    347\n",
       "SpiceJet                             208\n",
       "Vistara                              129\n",
       "Air Asia                              86\n",
       "GoAir                                 46\n",
       "Multiple carriers Premium economy      3\n",
       "Vistara Premium economy                2\n",
       "Jet Airways Business                   2\n",
       "Name: Airline, dtype: int64"
      ]
     },
     "execution_count": 4,
     "metadata": {},
     "output_type": "execute_result"
    }
   ],
   "source": [
    "test_df.Airline.value_counts()"
   ]
  },
  {
   "cell_type": "markdown",
   "metadata": {},
   "source": [
    "* What is number of Rows and Columns in the Train and Test sets?"
   ]
  },
  {
   "cell_type": "code",
   "execution_count": 5,
   "metadata": {},
   "outputs": [
    {
     "name": "stdout",
     "output_type": "stream",
     "text": [
      "The shape of the train set is: (10683, 11)\n",
      "The shape of the test set is: (2671, 10)\n"
     ]
    }
   ],
   "source": [
    "print(\"The shape of the train set is:\", train_df.shape)\n",
    "print(\"The shape of the test set is:\", test_df.shape)"
   ]
  },
  {
   "cell_type": "code",
   "execution_count": 6,
   "metadata": {},
   "outputs": [
    {
     "data": {
      "text/html": [
       "<div>\n",
       "<style scoped>\n",
       "    .dataframe tbody tr th:only-of-type {\n",
       "        vertical-align: middle;\n",
       "    }\n",
       "\n",
       "    .dataframe tbody tr th {\n",
       "        vertical-align: top;\n",
       "    }\n",
       "\n",
       "    .dataframe thead th {\n",
       "        text-align: right;\n",
       "    }\n",
       "</style>\n",
       "<table border=\"1\" class=\"dataframe\">\n",
       "  <thead>\n",
       "    <tr style=\"text-align: right;\">\n",
       "      <th></th>\n",
       "      <th>Airline</th>\n",
       "      <th>Date_of_Journey</th>\n",
       "      <th>Source</th>\n",
       "      <th>Destination</th>\n",
       "      <th>Route</th>\n",
       "      <th>Dep_Time</th>\n",
       "      <th>Arrival_Time</th>\n",
       "      <th>Duration</th>\n",
       "      <th>Total_Stops</th>\n",
       "      <th>Additional_Info</th>\n",
       "      <th>Price</th>\n",
       "    </tr>\n",
       "  </thead>\n",
       "  <tbody>\n",
       "    <tr>\n",
       "      <th>0</th>\n",
       "      <td>IndiGo</td>\n",
       "      <td>24/03/2019</td>\n",
       "      <td>Banglore</td>\n",
       "      <td>New Delhi</td>\n",
       "      <td>BLR → DEL</td>\n",
       "      <td>22:20</td>\n",
       "      <td>01:10 22 Mar</td>\n",
       "      <td>2h 50m</td>\n",
       "      <td>non-stop</td>\n",
       "      <td>No info</td>\n",
       "      <td>3897</td>\n",
       "    </tr>\n",
       "    <tr>\n",
       "      <th>1</th>\n",
       "      <td>Air India</td>\n",
       "      <td>1/05/2019</td>\n",
       "      <td>Kolkata</td>\n",
       "      <td>Banglore</td>\n",
       "      <td>CCU → IXR → BBI → BLR</td>\n",
       "      <td>05:50</td>\n",
       "      <td>13:15</td>\n",
       "      <td>7h 25m</td>\n",
       "      <td>2 stops</td>\n",
       "      <td>No info</td>\n",
       "      <td>7662</td>\n",
       "    </tr>\n",
       "    <tr>\n",
       "      <th>2</th>\n",
       "      <td>Jet Airways</td>\n",
       "      <td>9/06/2019</td>\n",
       "      <td>Delhi</td>\n",
       "      <td>Cochin</td>\n",
       "      <td>DEL → LKO → BOM → COK</td>\n",
       "      <td>09:25</td>\n",
       "      <td>04:25 10 Jun</td>\n",
       "      <td>19h</td>\n",
       "      <td>2 stops</td>\n",
       "      <td>No info</td>\n",
       "      <td>13882</td>\n",
       "    </tr>\n",
       "    <tr>\n",
       "      <th>3</th>\n",
       "      <td>IndiGo</td>\n",
       "      <td>12/05/2019</td>\n",
       "      <td>Kolkata</td>\n",
       "      <td>Banglore</td>\n",
       "      <td>CCU → NAG → BLR</td>\n",
       "      <td>18:05</td>\n",
       "      <td>23:30</td>\n",
       "      <td>5h 25m</td>\n",
       "      <td>1 stop</td>\n",
       "      <td>No info</td>\n",
       "      <td>6218</td>\n",
       "    </tr>\n",
       "    <tr>\n",
       "      <th>4</th>\n",
       "      <td>IndiGo</td>\n",
       "      <td>01/03/2019</td>\n",
       "      <td>Banglore</td>\n",
       "      <td>New Delhi</td>\n",
       "      <td>BLR → NAG → DEL</td>\n",
       "      <td>16:50</td>\n",
       "      <td>21:35</td>\n",
       "      <td>4h 45m</td>\n",
       "      <td>1 stop</td>\n",
       "      <td>No info</td>\n",
       "      <td>13302</td>\n",
       "    </tr>\n",
       "  </tbody>\n",
       "</table>\n",
       "</div>"
      ],
      "text/plain": [
       "       Airline Date_of_Journey    Source Destination                  Route  \\\n",
       "0       IndiGo      24/03/2019  Banglore   New Delhi              BLR → DEL   \n",
       "1    Air India       1/05/2019   Kolkata    Banglore  CCU → IXR → BBI → BLR   \n",
       "2  Jet Airways       9/06/2019     Delhi      Cochin  DEL → LKO → BOM → COK   \n",
       "3       IndiGo      12/05/2019   Kolkata    Banglore        CCU → NAG → BLR   \n",
       "4       IndiGo      01/03/2019  Banglore   New Delhi        BLR → NAG → DEL   \n",
       "\n",
       "  Dep_Time  Arrival_Time Duration Total_Stops Additional_Info  Price  \n",
       "0    22:20  01:10 22 Mar   2h 50m    non-stop         No info   3897  \n",
       "1    05:50         13:15   7h 25m     2 stops         No info   7662  \n",
       "2    09:25  04:25 10 Jun      19h     2 stops         No info  13882  \n",
       "3    18:05         23:30   5h 25m      1 stop         No info   6218  \n",
       "4    16:50         21:35   4h 45m      1 stop         No info  13302  "
      ]
     },
     "execution_count": 6,
     "metadata": {},
     "output_type": "execute_result"
    }
   ],
   "source": [
    "train_df.head()"
   ]
  },
  {
   "cell_type": "markdown",
   "metadata": {},
   "source": [
    "#### Feature Engineering"
   ]
  },
  {
   "cell_type": "markdown",
   "metadata": {},
   "source": [
    "Identifying and handling Outliers"
   ]
  },
  {
   "cell_type": "code",
   "execution_count": 7,
   "metadata": {},
   "outputs": [
    {
     "data": {
      "image/png": "[encoded data removed]",
      "text/plain": [
       "<Figure size 432x288 with 1 Axes>"
      ]
     },
     "metadata": {
      "needs_background": "light"
     },
     "output_type": "display_data"
    }
   ],
   "source": [
    "plt.boxplot(train_df[\"Price\"])\n",
    "plt.show()"
   ]
  },
  {
   "cell_type": "markdown",
   "metadata": {},
   "source": [
    "* There are some Flight Price above 40000. These could be potential outliers. Let's explore a little more on this."
   ]
  },
  {
   "cell_type": "code",
   "execution_count": 8,
   "metadata": {},
   "outputs": [
    {
     "data": {
      "text/html": [
       "<div>\n",
       "<style scoped>\n",
       "    .dataframe tbody tr th:only-of-type {\n",
       "        vertical-align: middle;\n",
       "    }\n",
       "\n",
       "    .dataframe tbody tr th {\n",
       "        vertical-align: top;\n",
       "    }\n",
       "\n",
       "    .dataframe thead th {\n",
       "        text-align: right;\n",
       "    }\n",
       "</style>\n",
       "<table border=\"1\" class=\"dataframe\">\n",
       "  <thead>\n",
       "    <tr style=\"text-align: right;\">\n",
       "      <th></th>\n",
       "      <th>Airline</th>\n",
       "      <th>Date_of_Journey</th>\n",
       "      <th>Source</th>\n",
       "      <th>Destination</th>\n",
       "      <th>Route</th>\n",
       "      <th>Dep_Time</th>\n",
       "      <th>Arrival_Time</th>\n",
       "      <th>Duration</th>\n",
       "      <th>Total_Stops</th>\n",
       "      <th>Additional_Info</th>\n",
       "      <th>Price</th>\n",
       "    </tr>\n",
       "  </thead>\n",
       "  <tbody>\n",
       "    <tr>\n",
       "      <th>657</th>\n",
       "      <td>Jet Airways Business</td>\n",
       "      <td>01/03/2019</td>\n",
       "      <td>Banglore</td>\n",
       "      <td>New Delhi</td>\n",
       "      <td>BLR → BOM → DEL</td>\n",
       "      <td>05:45</td>\n",
       "      <td>10:45</td>\n",
       "      <td>5h</td>\n",
       "      <td>1 stop</td>\n",
       "      <td>No info</td>\n",
       "      <td>52229</td>\n",
       "    </tr>\n",
       "    <tr>\n",
       "      <th>1478</th>\n",
       "      <td>Jet Airways</td>\n",
       "      <td>18/03/2019</td>\n",
       "      <td>Banglore</td>\n",
       "      <td>New Delhi</td>\n",
       "      <td>BLR → BOM → DEL</td>\n",
       "      <td>18:40</td>\n",
       "      <td>00:45 16 Mar</td>\n",
       "      <td>6h 5m</td>\n",
       "      <td>1 stop</td>\n",
       "      <td>No info</td>\n",
       "      <td>54826</td>\n",
       "    </tr>\n",
       "    <tr>\n",
       "      <th>2618</th>\n",
       "      <td>Jet Airways</td>\n",
       "      <td>18/03/2019</td>\n",
       "      <td>Banglore</td>\n",
       "      <td>New Delhi</td>\n",
       "      <td>BLR → BOM → DEL</td>\n",
       "      <td>22:50</td>\n",
       "      <td>05:05 16 Mar</td>\n",
       "      <td>6h 15m</td>\n",
       "      <td>1 stop</td>\n",
       "      <td>No info</td>\n",
       "      <td>54826</td>\n",
       "    </tr>\n",
       "    <tr>\n",
       "      <th>2924</th>\n",
       "      <td>Jet Airways Business</td>\n",
       "      <td>01/03/2019</td>\n",
       "      <td>Banglore</td>\n",
       "      <td>New Delhi</td>\n",
       "      <td>BLR → BOM → DEL</td>\n",
       "      <td>05:45</td>\n",
       "      <td>11:25</td>\n",
       "      <td>5h 40m</td>\n",
       "      <td>1 stop</td>\n",
       "      <td>Business class</td>\n",
       "      <td>79512</td>\n",
       "    </tr>\n",
       "    <tr>\n",
       "      <th>5372</th>\n",
       "      <td>Jet Airways Business</td>\n",
       "      <td>01/03/2019</td>\n",
       "      <td>Banglore</td>\n",
       "      <td>New Delhi</td>\n",
       "      <td>BLR → BOM → DEL</td>\n",
       "      <td>05:45</td>\n",
       "      <td>12:25</td>\n",
       "      <td>6h 40m</td>\n",
       "      <td>1 stop</td>\n",
       "      <td>Business class</td>\n",
       "      <td>62427</td>\n",
       "    </tr>\n",
       "    <tr>\n",
       "      <th>5439</th>\n",
       "      <td>Jet Airways</td>\n",
       "      <td>01/03/2019</td>\n",
       "      <td>Banglore</td>\n",
       "      <td>New Delhi</td>\n",
       "      <td>BLR → BOM → DEL</td>\n",
       "      <td>16:55</td>\n",
       "      <td>23:00</td>\n",
       "      <td>6h 5m</td>\n",
       "      <td>1 stop</td>\n",
       "      <td>No info</td>\n",
       "      <td>54826</td>\n",
       "    </tr>\n",
       "    <tr>\n",
       "      <th>7351</th>\n",
       "      <td>Jet Airways Business</td>\n",
       "      <td>3/03/2019</td>\n",
       "      <td>Delhi</td>\n",
       "      <td>Cochin</td>\n",
       "      <td>DEL → ATQ → BOM → COK</td>\n",
       "      <td>20:05</td>\n",
       "      <td>04:25 04 Mar</td>\n",
       "      <td>8h 20m</td>\n",
       "      <td>2 stops</td>\n",
       "      <td>No info</td>\n",
       "      <td>46490</td>\n",
       "    </tr>\n",
       "    <tr>\n",
       "      <th>9715</th>\n",
       "      <td>Jet Airways Business</td>\n",
       "      <td>6/03/2019</td>\n",
       "      <td>Delhi</td>\n",
       "      <td>Cochin</td>\n",
       "      <td>DEL → ATQ → BOM → COK</td>\n",
       "      <td>20:05</td>\n",
       "      <td>04:25 07 Mar</td>\n",
       "      <td>8h 20m</td>\n",
       "      <td>2 stops</td>\n",
       "      <td>No info</td>\n",
       "      <td>52285</td>\n",
       "    </tr>\n",
       "    <tr>\n",
       "      <th>10364</th>\n",
       "      <td>Jet Airways Business</td>\n",
       "      <td>01/03/2019</td>\n",
       "      <td>Banglore</td>\n",
       "      <td>New Delhi</td>\n",
       "      <td>BLR → MAA → DEL</td>\n",
       "      <td>09:45</td>\n",
       "      <td>14:25</td>\n",
       "      <td>4h 40m</td>\n",
       "      <td>1 stop</td>\n",
       "      <td>Business class</td>\n",
       "      <td>57209</td>\n",
       "    </tr>\n",
       "  </tbody>\n",
       "</table>\n",
       "</div>"
      ],
      "text/plain": [
       "                    Airline Date_of_Journey    Source Destination  \\\n",
       "657    Jet Airways Business      01/03/2019  Banglore   New Delhi   \n",
       "1478            Jet Airways      18/03/2019  Banglore   New Delhi   \n",
       "2618            Jet Airways      18/03/2019  Banglore   New Delhi   \n",
       "2924   Jet Airways Business      01/03/2019  Banglore   New Delhi   \n",
       "5372   Jet Airways Business      01/03/2019  Banglore   New Delhi   \n",
       "5439            Jet Airways      01/03/2019  Banglore   New Delhi   \n",
       "7351   Jet Airways Business       3/03/2019     Delhi      Cochin   \n",
       "9715   Jet Airways Business       6/03/2019     Delhi      Cochin   \n",
       "10364  Jet Airways Business      01/03/2019  Banglore   New Delhi   \n",
       "\n",
       "                       Route Dep_Time  Arrival_Time Duration Total_Stops  \\\n",
       "657          BLR → BOM → DEL    05:45         10:45       5h      1 stop   \n",
       "1478         BLR → BOM → DEL    18:40  00:45 16 Mar    6h 5m      1 stop   \n",
       "2618         BLR → BOM → DEL    22:50  05:05 16 Mar   6h 15m      1 stop   \n",
       "2924         BLR → BOM → DEL    05:45         11:25   5h 40m      1 stop   \n",
       "5372         BLR → BOM → DEL    05:45         12:25   6h 40m      1 stop   \n",
       "5439         BLR → BOM → DEL    16:55         23:00    6h 5m      1 stop   \n",
       "7351   DEL → ATQ → BOM → COK    20:05  04:25 04 Mar   8h 20m     2 stops   \n",
       "9715   DEL → ATQ → BOM → COK    20:05  04:25 07 Mar   8h 20m     2 stops   \n",
       "10364        BLR → MAA → DEL    09:45         14:25   4h 40m      1 stop   \n",
       "\n",
       "      Additional_Info  Price  \n",
       "657           No info  52229  \n",
       "1478          No info  54826  \n",
       "2618          No info  54826  \n",
       "2924   Business class  79512  \n",
       "5372   Business class  62427  \n",
       "5439          No info  54826  \n",
       "7351          No info  46490  \n",
       "9715          No info  52285  \n",
       "10364  Business class  57209  "
      ]
     },
     "execution_count": 8,
     "metadata": {},
     "output_type": "execute_result"
    }
   ],
   "source": [
    "train_df[train_df[\"Price\"]>40000]"
   ]
  },
  {
   "cell_type": "code",
   "execution_count": 9,
   "metadata": {},
   "outputs": [
    {
     "data": {
      "text/plain": [
       "Price    1.812552\n",
       "dtype: float64"
      ]
     },
     "execution_count": 9,
     "metadata": {},
     "output_type": "execute_result"
    }
   ],
   "source": [
    "pd.DataFrame(train_df[\"Price\"]).skew()"
   ]
  },
  {
   "cell_type": "code",
   "execution_count": 10,
   "metadata": {},
   "outputs": [
    {
     "data": {
      "text/plain": [
       "Price   -0.254737\n",
       "dtype: float64"
      ]
     },
     "execution_count": 10,
     "metadata": {},
     "output_type": "execute_result"
    }
   ],
   "source": [
    "pd.DataFrame(np.log(train_df[\"Price\"])).skew()"
   ]
  },
  {
   "cell_type": "code",
   "execution_count": 11,
   "metadata": {},
   "outputs": [],
   "source": [
    "from sklearn import model_selection"
   ]
  },
  {
   "cell_type": "markdown",
   "metadata": {},
   "source": [
    "*Removing the outliers*"
   ]
  },
  {
   "cell_type": "code",
   "execution_count": 16,
   "metadata": {},
   "outputs": [],
   "source": [
    "train_df = train_df[train_df[\"Price\"]<40000].reset_index()\n",
    "train_df.drop(\"index\", axis=1, inplace=True)"
   ]
  },
  {
   "cell_type": "markdown",
   "metadata": {},
   "source": [
    "*Normalizing the Target variable*"
   ]
  },
  {
   "cell_type": "code",
   "execution_count": 17,
   "metadata": {},
   "outputs": [],
   "source": [
    "train_df[\"Price\"] = np.log10(train_df[\"Price\"])"
   ]
  },
  {
   "cell_type": "code",
   "execution_count": 18,
   "metadata": {},
   "outputs": [
    {
     "data": {
      "text/html": [
       "<div>\n",
       "<style scoped>\n",
       "    .dataframe tbody tr th:only-of-type {\n",
       "        vertical-align: middle;\n",
       "    }\n",
       "\n",
       "    .dataframe tbody tr th {\n",
       "        vertical-align: top;\n",
       "    }\n",
       "\n",
       "    .dataframe thead th {\n",
       "        text-align: right;\n",
       "    }\n",
       "</style>\n",
       "<table border=\"1\" class=\"dataframe\">\n",
       "  <thead>\n",
       "    <tr style=\"text-align: right;\">\n",
       "      <th></th>\n",
       "      <th>Airline</th>\n",
       "      <th>Date_of_Journey</th>\n",
       "      <th>Source</th>\n",
       "      <th>Destination</th>\n",
       "      <th>Route</th>\n",
       "      <th>Dep_Time</th>\n",
       "      <th>Arrival_Time</th>\n",
       "      <th>Duration</th>\n",
       "      <th>Total_Stops</th>\n",
       "      <th>Additional_Info</th>\n",
       "      <th>Price</th>\n",
       "    </tr>\n",
       "  </thead>\n",
       "  <tbody>\n",
       "    <tr>\n",
       "      <th>0</th>\n",
       "      <td>IndiGo</td>\n",
       "      <td>24/03/2019</td>\n",
       "      <td>Banglore</td>\n",
       "      <td>New Delhi</td>\n",
       "      <td>BLR → DEL</td>\n",
       "      <td>22:20</td>\n",
       "      <td>01:10 22 Mar</td>\n",
       "      <td>2h 50m</td>\n",
       "      <td>non-stop</td>\n",
       "      <td>No info</td>\n",
       "      <td>3.590730</td>\n",
       "    </tr>\n",
       "    <tr>\n",
       "      <th>1</th>\n",
       "      <td>Air India</td>\n",
       "      <td>1/05/2019</td>\n",
       "      <td>Kolkata</td>\n",
       "      <td>Banglore</td>\n",
       "      <td>CCU → IXR → BBI → BLR</td>\n",
       "      <td>05:50</td>\n",
       "      <td>13:15</td>\n",
       "      <td>7h 25m</td>\n",
       "      <td>2 stops</td>\n",
       "      <td>No info</td>\n",
       "      <td>3.884342</td>\n",
       "    </tr>\n",
       "    <tr>\n",
       "      <th>2</th>\n",
       "      <td>Jet Airways</td>\n",
       "      <td>9/06/2019</td>\n",
       "      <td>Delhi</td>\n",
       "      <td>Cochin</td>\n",
       "      <td>DEL → LKO → BOM → COK</td>\n",
       "      <td>09:25</td>\n",
       "      <td>04:25 10 Jun</td>\n",
       "      <td>19h</td>\n",
       "      <td>2 stops</td>\n",
       "      <td>No info</td>\n",
       "      <td>4.142452</td>\n",
       "    </tr>\n",
       "    <tr>\n",
       "      <th>3</th>\n",
       "      <td>IndiGo</td>\n",
       "      <td>12/05/2019</td>\n",
       "      <td>Kolkata</td>\n",
       "      <td>Banglore</td>\n",
       "      <td>CCU → NAG → BLR</td>\n",
       "      <td>18:05</td>\n",
       "      <td>23:30</td>\n",
       "      <td>5h 25m</td>\n",
       "      <td>1 stop</td>\n",
       "      <td>No info</td>\n",
       "      <td>3.793651</td>\n",
       "    </tr>\n",
       "    <tr>\n",
       "      <th>4</th>\n",
       "      <td>IndiGo</td>\n",
       "      <td>01/03/2019</td>\n",
       "      <td>Banglore</td>\n",
       "      <td>New Delhi</td>\n",
       "      <td>BLR → NAG → DEL</td>\n",
       "      <td>16:50</td>\n",
       "      <td>21:35</td>\n",
       "      <td>4h 45m</td>\n",
       "      <td>1 stop</td>\n",
       "      <td>No info</td>\n",
       "      <td>4.123917</td>\n",
       "    </tr>\n",
       "  </tbody>\n",
       "</table>\n",
       "</div>"
      ],
      "text/plain": [
       "       Airline Date_of_Journey    Source Destination                  Route  \\\n",
       "0       IndiGo      24/03/2019  Banglore   New Delhi              BLR → DEL   \n",
       "1    Air India       1/05/2019   Kolkata    Banglore  CCU → IXR → BBI → BLR   \n",
       "2  Jet Airways       9/06/2019     Delhi      Cochin  DEL → LKO → BOM → COK   \n",
       "3       IndiGo      12/05/2019   Kolkata    Banglore        CCU → NAG → BLR   \n",
       "4       IndiGo      01/03/2019  Banglore   New Delhi        BLR → NAG → DEL   \n",
       "\n",
       "  Dep_Time  Arrival_Time Duration Total_Stops Additional_Info     Price  \n",
       "0    22:20  01:10 22 Mar   2h 50m    non-stop         No info  3.590730  \n",
       "1    05:50         13:15   7h 25m     2 stops         No info  3.884342  \n",
       "2    09:25  04:25 10 Jun      19h     2 stops         No info  4.142452  \n",
       "3    18:05         23:30   5h 25m      1 stop         No info  3.793651  \n",
       "4    16:50         21:35   4h 45m      1 stop         No info  4.123917  "
      ]
     },
     "execution_count": 18,
     "metadata": {},
     "output_type": "execute_result"
    }
   ],
   "source": [
    "train_df.head()"
   ]
  },
  {
   "cell_type": "markdown",
   "metadata": {},
   "source": [
    "*Airlines with counts less than 100. For now we will call them as Rare*"
   ]
  },
  {
   "cell_type": "code",
   "execution_count": 19,
   "metadata": {},
   "outputs": [],
   "source": [
    "temp = train_df.loc[train_df[\"Airline\"].value_counts()[train_df[\"Airline\"]].values > 100][\"Airline\"].value_counts().index"
   ]
  },
  {
   "cell_type": "code",
   "execution_count": 20,
   "metadata": {},
   "outputs": [],
   "source": [
    "for i in temp:\n",
    "    train_df.loc[train_df[\"Airline\"]!=i, \"Airline\"] = \"Rare\"\n",
    "    test_df.loc[test_df[\"Airline\"]!=i, \"Airline\"] = \"Rare\""
   ]
  },
  {
   "cell_type": "code",
   "execution_count": 21,
   "metadata": {},
   "outputs": [
    {
     "data": {
      "text/plain": [
       "Rare    10674\n",
       "Name: Airline, dtype: int64"
      ]
     },
     "execution_count": 21,
     "metadata": {},
     "output_type": "execute_result"
    }
   ],
   "source": [
    "train_df[\"Airline\"].value_counts()"
   ]
  },
  {
   "cell_type": "markdown",
   "metadata": {},
   "source": [
    "*Data Cleansing on Total Stops Column*"
   ]
  },
  {
   "cell_type": "code",
   "execution_count": 22,
   "metadata": {},
   "outputs": [
    {
     "data": {
      "text/plain": [
       "1 stop      5618\n",
       "non-stop    3491\n",
       "2 stops     1518\n",
       "3 stops       45\n",
       "4 stops        1\n",
       "Name: Total_Stops, dtype: int64"
      ]
     },
     "execution_count": 22,
     "metadata": {},
     "output_type": "execute_result"
    }
   ],
   "source": [
    "train_df[\"Total_Stops\"].value_counts()"
   ]
  },
  {
   "cell_type": "code",
   "execution_count": 23,
   "metadata": {},
   "outputs": [],
   "source": [
    "# Replace non-stop with 0\n",
    "\n",
    "train_df.loc[train_df[\"Total_Stops\"]==\"non-stop\", \"Total_Stops\"]='0'\n",
    "test_df.loc[test_df[\"Total_Stops\"]==\"non-stop\", \"Total_Stops\"]='0'"
   ]
  },
  {
   "cell_type": "code",
   "execution_count": 24,
   "metadata": {},
   "outputs": [],
   "source": [
    "# Fill the missing values in Total Stops as 0\n",
    "train_df[\"Total_Stops\"].fillna('0', inplace=True)\n",
    "\n",
    "# Extract Numeric information from Total Stop\n",
    "train_df[\"Total_Stops\"] = train_df[\"Total_Stops\"].str.split(\" \", expand=True)[0].astype(\"int8\")\n",
    "\n",
    "train_df.loc[train_df[\"Total_Stops\"] > 2, \"Total_Stops\"]=1000\n",
    "\n",
    "\n",
    "# Perfroming the same transformations on the Test set\n",
    "\n",
    "test_df[\"Total_Stops\"].fillna('0', inplace=True)\n",
    "test_df[\"Total_Stops\"] = test_df[\"Total_Stops\"].str.split(\" \", expand=True)[0].astype(\"int8\")\n",
    "test_df.loc[test_df[\"Total_Stops\"] > 2, \"Total_Stops\"]=1000"
   ]
  },
  {
   "cell_type": "code",
   "execution_count": 25,
   "metadata": {},
   "outputs": [],
   "source": [
    "# Data Cleansing on the Arrival Time and Departure Time variables\n",
    "\n",
    "train_df[\"Arrival_Time\"] = train_df[\"Arrival_Time\"].str.split(\" \", expand=True)[0]\n",
    "train_df[\"Arrival_Time\"] = train_df[\"Arrival_Time\"].str.replace(\":\",\"\").astype(\"int32\")\n",
    "train_df[\"Dep_Time\"] = train_df[\"Dep_Time\"].str.replace(\":\",\"\").astype(\"int32\")\n",
    "\n",
    "test_df[\"Arrival_Time\"] = test_df[\"Arrival_Time\"].str.split(\" \", expand=True)[0]\n",
    "test_df[\"Arrival_Time\"] = test_df[\"Arrival_Time\"].str.replace(\":\",\"\").astype(\"int32\")\n",
    "test_df[\"Dep_Time\"] = test_df[\"Dep_Time\"].str.replace(\":\",\"\").astype(\"int32\")"
   ]
  },
  {
   "cell_type": "code",
   "execution_count": 26,
   "metadata": {},
   "outputs": [],
   "source": [
    "# Data Cleansing on the Duration Variable to convert it from Hours to Minutes\n",
    "\n",
    "train_df[\"Duration\"] = train_df[\"Duration\"].str.replace(\"h\",\"*60\").str.replace(\" \",\"+\").str.replace(\"m\",\"*1\").apply(eval)\n",
    "\n",
    "test_df[\"Duration\"] = test_df[\"Duration\"].str.replace(\"h\",\"*60\").str.replace(\" \",\"+\").str.replace(\"m\",\"*1\").apply(eval)"
   ]
  },
  {
   "cell_type": "code",
   "execution_count": 27,
   "metadata": {},
   "outputs": [],
   "source": [
    "# Removing the Additional Information column\n",
    "\n",
    "train_df.drop(\"Additional_Info\", axis=1, inplace=True)\n",
    "test_df.drop(\"Additional_Info\", axis=1, inplace=True)"
   ]
  },
  {
   "cell_type": "code",
   "execution_count": 28,
   "metadata": {},
   "outputs": [
    {
     "data": {
      "text/html": [
       "<div>\n",
       "<style scoped>\n",
       "    .dataframe tbody tr th:only-of-type {\n",
       "        vertical-align: middle;\n",
       "    }\n",
       "\n",
       "    .dataframe tbody tr th {\n",
       "        vertical-align: top;\n",
       "    }\n",
       "\n",
       "    .dataframe thead th {\n",
       "        text-align: right;\n",
       "    }\n",
       "</style>\n",
       "<table border=\"1\" class=\"dataframe\">\n",
       "  <thead>\n",
       "    <tr style=\"text-align: right;\">\n",
       "      <th></th>\n",
       "      <th>Airline</th>\n",
       "      <th>Date_of_Journey</th>\n",
       "      <th>Source</th>\n",
       "      <th>Destination</th>\n",
       "      <th>Route</th>\n",
       "      <th>Dep_Time</th>\n",
       "      <th>Arrival_Time</th>\n",
       "      <th>Duration</th>\n",
       "      <th>Total_Stops</th>\n",
       "      <th>Price</th>\n",
       "    </tr>\n",
       "  </thead>\n",
       "  <tbody>\n",
       "    <tr>\n",
       "      <th>0</th>\n",
       "      <td>Rare</td>\n",
       "      <td>24/03/2019</td>\n",
       "      <td>Banglore</td>\n",
       "      <td>New Delhi</td>\n",
       "      <td>BLR → DEL</td>\n",
       "      <td>2220</td>\n",
       "      <td>110</td>\n",
       "      <td>170</td>\n",
       "      <td>0</td>\n",
       "      <td>3.590730</td>\n",
       "    </tr>\n",
       "    <tr>\n",
       "      <th>1</th>\n",
       "      <td>Rare</td>\n",
       "      <td>1/05/2019</td>\n",
       "      <td>Kolkata</td>\n",
       "      <td>Banglore</td>\n",
       "      <td>CCU → IXR → BBI → BLR</td>\n",
       "      <td>550</td>\n",
       "      <td>1315</td>\n",
       "      <td>445</td>\n",
       "      <td>2</td>\n",
       "      <td>3.884342</td>\n",
       "    </tr>\n",
       "    <tr>\n",
       "      <th>2</th>\n",
       "      <td>Rare</td>\n",
       "      <td>9/06/2019</td>\n",
       "      <td>Delhi</td>\n",
       "      <td>Cochin</td>\n",
       "      <td>DEL → LKO → BOM → COK</td>\n",
       "      <td>925</td>\n",
       "      <td>425</td>\n",
       "      <td>1140</td>\n",
       "      <td>2</td>\n",
       "      <td>4.142452</td>\n",
       "    </tr>\n",
       "    <tr>\n",
       "      <th>3</th>\n",
       "      <td>Rare</td>\n",
       "      <td>12/05/2019</td>\n",
       "      <td>Kolkata</td>\n",
       "      <td>Banglore</td>\n",
       "      <td>CCU → NAG → BLR</td>\n",
       "      <td>1805</td>\n",
       "      <td>2330</td>\n",
       "      <td>325</td>\n",
       "      <td>1</td>\n",
       "      <td>3.793651</td>\n",
       "    </tr>\n",
       "    <tr>\n",
       "      <th>4</th>\n",
       "      <td>Rare</td>\n",
       "      <td>01/03/2019</td>\n",
       "      <td>Banglore</td>\n",
       "      <td>New Delhi</td>\n",
       "      <td>BLR → NAG → DEL</td>\n",
       "      <td>1650</td>\n",
       "      <td>2135</td>\n",
       "      <td>285</td>\n",
       "      <td>1</td>\n",
       "      <td>4.123917</td>\n",
       "    </tr>\n",
       "  </tbody>\n",
       "</table>\n",
       "</div>"
      ],
      "text/plain": [
       "  Airline Date_of_Journey    Source Destination                  Route  \\\n",
       "0    Rare      24/03/2019  Banglore   New Delhi              BLR → DEL   \n",
       "1    Rare       1/05/2019   Kolkata    Banglore  CCU → IXR → BBI → BLR   \n",
       "2    Rare       9/06/2019     Delhi      Cochin  DEL → LKO → BOM → COK   \n",
       "3    Rare      12/05/2019   Kolkata    Banglore        CCU → NAG → BLR   \n",
       "4    Rare      01/03/2019  Banglore   New Delhi        BLR → NAG → DEL   \n",
       "\n",
       "   Dep_Time  Arrival_Time  Duration  Total_Stops     Price  \n",
       "0      2220           110       170            0  3.590730  \n",
       "1       550          1315       445            2  3.884342  \n",
       "2       925           425      1140            2  4.142452  \n",
       "3      1805          2330       325            1  3.793651  \n",
       "4      1650          2135       285            1  4.123917  "
      ]
     },
     "execution_count": 28,
     "metadata": {},
     "output_type": "execute_result"
    }
   ],
   "source": [
    "train_df.head()"
   ]
  },
  {
   "cell_type": "markdown",
   "metadata": {},
   "source": [
    "##### Handling Date Column"
   ]
  },
  {
   "cell_type": "code",
   "execution_count": 29,
   "metadata": {},
   "outputs": [],
   "source": [
    "train_df[\"Date_of_Journey\"] = pd.to_datetime(train_df[\"Date_of_Journey\"])\n",
    "\n",
    "test_df[\"Date_of_Journey\"] = pd.to_datetime(test_df[\"Date_of_Journey\"])"
   ]
  },
  {
   "cell_type": "code",
   "execution_count": 30,
   "metadata": {},
   "outputs": [],
   "source": [
    "# Extract Month and Week information\n",
    "\n",
    "train_df[\"Month_of_Journey\"] = train_df[\"Date_of_Journey\"].dt.month\n",
    "train_df[\"Week_of_Journey\"] = train_df[\"Date_of_Journey\"].dt.week\n",
    "\n",
    "test_df[\"Month_of_Journey\"] = test_df[\"Date_of_Journey\"].dt.month\n",
    "test_df[\"Week_of_Journey\"] = test_df[\"Date_of_Journey\"].dt.week"
   ]
  },
  {
   "cell_type": "code",
   "execution_count": 31,
   "metadata": {},
   "outputs": [
    {
     "data": {
      "text/html": [
       "<div>\n",
       "<style scoped>\n",
       "    .dataframe tbody tr th:only-of-type {\n",
       "        vertical-align: middle;\n",
       "    }\n",
       "\n",
       "    .dataframe tbody tr th {\n",
       "        vertical-align: top;\n",
       "    }\n",
       "\n",
       "    .dataframe thead th {\n",
       "        text-align: right;\n",
       "    }\n",
       "</style>\n",
       "<table border=\"1\" class=\"dataframe\">\n",
       "  <thead>\n",
       "    <tr style=\"text-align: right;\">\n",
       "      <th></th>\n",
       "      <th>Airline</th>\n",
       "      <th>Date_of_Journey</th>\n",
       "      <th>Source</th>\n",
       "      <th>Destination</th>\n",
       "      <th>Route</th>\n",
       "      <th>Dep_Time</th>\n",
       "      <th>Arrival_Time</th>\n",
       "      <th>Duration</th>\n",
       "      <th>Total_Stops</th>\n",
       "      <th>Price</th>\n",
       "      <th>Month_of_Journey</th>\n",
       "      <th>Week_of_Journey</th>\n",
       "    </tr>\n",
       "  </thead>\n",
       "  <tbody>\n",
       "    <tr>\n",
       "      <th>0</th>\n",
       "      <td>Rare</td>\n",
       "      <td>2019-03-24</td>\n",
       "      <td>Banglore</td>\n",
       "      <td>New Delhi</td>\n",
       "      <td>BLR → DEL</td>\n",
       "      <td>2220</td>\n",
       "      <td>110</td>\n",
       "      <td>170</td>\n",
       "      <td>0</td>\n",
       "      <td>3.590730</td>\n",
       "      <td>3</td>\n",
       "      <td>12</td>\n",
       "    </tr>\n",
       "    <tr>\n",
       "      <th>1</th>\n",
       "      <td>Rare</td>\n",
       "      <td>2019-01-05</td>\n",
       "      <td>Kolkata</td>\n",
       "      <td>Banglore</td>\n",
       "      <td>CCU → IXR → BBI → BLR</td>\n",
       "      <td>550</td>\n",
       "      <td>1315</td>\n",
       "      <td>445</td>\n",
       "      <td>2</td>\n",
       "      <td>3.884342</td>\n",
       "      <td>1</td>\n",
       "      <td>1</td>\n",
       "    </tr>\n",
       "    <tr>\n",
       "      <th>2</th>\n",
       "      <td>Rare</td>\n",
       "      <td>2019-09-06</td>\n",
       "      <td>Delhi</td>\n",
       "      <td>Cochin</td>\n",
       "      <td>DEL → LKO → BOM → COK</td>\n",
       "      <td>925</td>\n",
       "      <td>425</td>\n",
       "      <td>1140</td>\n",
       "      <td>2</td>\n",
       "      <td>4.142452</td>\n",
       "      <td>9</td>\n",
       "      <td>36</td>\n",
       "    </tr>\n",
       "    <tr>\n",
       "      <th>3</th>\n",
       "      <td>Rare</td>\n",
       "      <td>2019-12-05</td>\n",
       "      <td>Kolkata</td>\n",
       "      <td>Banglore</td>\n",
       "      <td>CCU → NAG → BLR</td>\n",
       "      <td>1805</td>\n",
       "      <td>2330</td>\n",
       "      <td>325</td>\n",
       "      <td>1</td>\n",
       "      <td>3.793651</td>\n",
       "      <td>12</td>\n",
       "      <td>49</td>\n",
       "    </tr>\n",
       "    <tr>\n",
       "      <th>4</th>\n",
       "      <td>Rare</td>\n",
       "      <td>2019-01-03</td>\n",
       "      <td>Banglore</td>\n",
       "      <td>New Delhi</td>\n",
       "      <td>BLR → NAG → DEL</td>\n",
       "      <td>1650</td>\n",
       "      <td>2135</td>\n",
       "      <td>285</td>\n",
       "      <td>1</td>\n",
       "      <td>4.123917</td>\n",
       "      <td>1</td>\n",
       "      <td>1</td>\n",
       "    </tr>\n",
       "  </tbody>\n",
       "</table>\n",
       "</div>"
      ],
      "text/plain": [
       "  Airline Date_of_Journey    Source Destination                  Route  \\\n",
       "0    Rare      2019-03-24  Banglore   New Delhi              BLR → DEL   \n",
       "1    Rare      2019-01-05   Kolkata    Banglore  CCU → IXR → BBI → BLR   \n",
       "2    Rare      2019-09-06     Delhi      Cochin  DEL → LKO → BOM → COK   \n",
       "3    Rare      2019-12-05   Kolkata    Banglore        CCU → NAG → BLR   \n",
       "4    Rare      2019-01-03  Banglore   New Delhi        BLR → NAG → DEL   \n",
       "\n",
       "   Dep_Time  Arrival_Time  Duration  Total_Stops     Price  Month_of_Journey  \\\n",
       "0      2220           110       170            0  3.590730                 3   \n",
       "1       550          1315       445            2  3.884342                 1   \n",
       "2       925           425      1140            2  4.142452                 9   \n",
       "3      1805          2330       325            1  3.793651                12   \n",
       "4      1650          2135       285            1  4.123917                 1   \n",
       "\n",
       "   Week_of_Journey  \n",
       "0               12  \n",
       "1                1  \n",
       "2               36  \n",
       "3               49  \n",
       "4                1  "
      ]
     },
     "execution_count": 31,
     "metadata": {},
     "output_type": "execute_result"
    }
   ],
   "source": [
    "train_df.head()"
   ]
  },
  {
   "cell_type": "code",
   "execution_count": 32,
   "metadata": {},
   "outputs": [
    {
     "data": {
      "text/plain": [
       "Delhi       4535\n",
       "Kolkata     2871\n",
       "Banglore    2190\n",
       "Mumbai       697\n",
       "Chennai      381\n",
       "Name: Source, dtype: int64"
      ]
     },
     "execution_count": 32,
     "metadata": {},
     "output_type": "execute_result"
    }
   ],
   "source": [
    "train_df[\"Source\"].value_counts()"
   ]
  },
  {
   "cell_type": "code",
   "execution_count": 33,
   "metadata": {},
   "outputs": [
    {
     "data": {
      "text/plain": [
       "Delhi       1145\n",
       "Kolkata      710\n",
       "Banglore     555\n",
       "Mumbai       186\n",
       "Chennai       75\n",
       "Name: Source, dtype: int64"
      ]
     },
     "execution_count": 33,
     "metadata": {},
     "output_type": "execute_result"
    }
   ],
   "source": [
    "test_df[\"Source\"].value_counts()"
   ]
  },
  {
   "cell_type": "code",
   "execution_count": 34,
   "metadata": {},
   "outputs": [
    {
     "data": {
      "text/plain": [
       "Cochin       4535\n",
       "Banglore     2871\n",
       "Delhi        1265\n",
       "New Delhi     925\n",
       "Hyderabad     697\n",
       "Kolkata       381\n",
       "Name: Destination, dtype: int64"
      ]
     },
     "execution_count": 34,
     "metadata": {},
     "output_type": "execute_result"
    }
   ],
   "source": [
    "train_df[\"Destination\"].value_counts()"
   ]
  },
  {
   "cell_type": "code",
   "execution_count": 35,
   "metadata": {},
   "outputs": [
    {
     "data": {
      "text/plain": [
       "Cochin       1145\n",
       "Banglore      710\n",
       "Delhi         317\n",
       "New Delhi     238\n",
       "Hyderabad     186\n",
       "Kolkata        75\n",
       "Name: Destination, dtype: int64"
      ]
     },
     "execution_count": 35,
     "metadata": {},
     "output_type": "execute_result"
    }
   ],
   "source": [
    "test_df[\"Destination\"].value_counts()"
   ]
  },
  {
   "cell_type": "code",
   "execution_count": 36,
   "metadata": {},
   "outputs": [],
   "source": [
    "# Destination has 2 different values Delhi and New Delhi. We need to keep a standard value\n",
    "\n",
    "train_df.loc[train_df[\"Destination\"]==\"Delhi\", \"Destination\"]='New Delhi'\n",
    "test_df.loc[test_df[\"Destination\"]==\"Delhi\", \"Destination\"]='New Delhi'"
   ]
  },
  {
   "cell_type": "code",
   "execution_count": 37,
   "metadata": {},
   "outputs": [],
   "source": [
    "# train_df[\"Route\"].str.split(\" → \", expand=True)"
   ]
  },
  {
   "cell_type": "code",
   "execution_count": 38,
   "metadata": {},
   "outputs": [],
   "source": [
    "# Dropping Route column\n",
    "\n",
    "train_df.drop(\"Route\", axis=1, inplace=True)\n",
    "\n",
    "test_df.drop(\"Route\", axis=1, inplace=True)"
   ]
  },
  {
   "cell_type": "code",
   "execution_count": 39,
   "metadata": {},
   "outputs": [
    {
     "data": {
      "text/html": [
       "<div>\n",
       "<style scoped>\n",
       "    .dataframe tbody tr th:only-of-type {\n",
       "        vertical-align: middle;\n",
       "    }\n",
       "\n",
       "    .dataframe tbody tr th {\n",
       "        vertical-align: top;\n",
       "    }\n",
       "\n",
       "    .dataframe thead th {\n",
       "        text-align: right;\n",
       "    }\n",
       "</style>\n",
       "<table border=\"1\" class=\"dataframe\">\n",
       "  <thead>\n",
       "    <tr style=\"text-align: right;\">\n",
       "      <th></th>\n",
       "      <th>Airline</th>\n",
       "      <th>Date_of_Journey</th>\n",
       "      <th>Source</th>\n",
       "      <th>Destination</th>\n",
       "      <th>Dep_Time</th>\n",
       "      <th>Arrival_Time</th>\n",
       "      <th>Duration</th>\n",
       "      <th>Total_Stops</th>\n",
       "      <th>Price</th>\n",
       "      <th>Month_of_Journey</th>\n",
       "      <th>Week_of_Journey</th>\n",
       "    </tr>\n",
       "  </thead>\n",
       "  <tbody>\n",
       "    <tr>\n",
       "      <th>0</th>\n",
       "      <td>Rare</td>\n",
       "      <td>2019-03-24</td>\n",
       "      <td>Banglore</td>\n",
       "      <td>New Delhi</td>\n",
       "      <td>2220</td>\n",
       "      <td>110</td>\n",
       "      <td>170</td>\n",
       "      <td>0</td>\n",
       "      <td>3.590730</td>\n",
       "      <td>3</td>\n",
       "      <td>12</td>\n",
       "    </tr>\n",
       "    <tr>\n",
       "      <th>1</th>\n",
       "      <td>Rare</td>\n",
       "      <td>2019-01-05</td>\n",
       "      <td>Kolkata</td>\n",
       "      <td>Banglore</td>\n",
       "      <td>550</td>\n",
       "      <td>1315</td>\n",
       "      <td>445</td>\n",
       "      <td>2</td>\n",
       "      <td>3.884342</td>\n",
       "      <td>1</td>\n",
       "      <td>1</td>\n",
       "    </tr>\n",
       "    <tr>\n",
       "      <th>2</th>\n",
       "      <td>Rare</td>\n",
       "      <td>2019-09-06</td>\n",
       "      <td>Delhi</td>\n",
       "      <td>Cochin</td>\n",
       "      <td>925</td>\n",
       "      <td>425</td>\n",
       "      <td>1140</td>\n",
       "      <td>2</td>\n",
       "      <td>4.142452</td>\n",
       "      <td>9</td>\n",
       "      <td>36</td>\n",
       "    </tr>\n",
       "    <tr>\n",
       "      <th>3</th>\n",
       "      <td>Rare</td>\n",
       "      <td>2019-12-05</td>\n",
       "      <td>Kolkata</td>\n",
       "      <td>Banglore</td>\n",
       "      <td>1805</td>\n",
       "      <td>2330</td>\n",
       "      <td>325</td>\n",
       "      <td>1</td>\n",
       "      <td>3.793651</td>\n",
       "      <td>12</td>\n",
       "      <td>49</td>\n",
       "    </tr>\n",
       "    <tr>\n",
       "      <th>4</th>\n",
       "      <td>Rare</td>\n",
       "      <td>2019-01-03</td>\n",
       "      <td>Banglore</td>\n",
       "      <td>New Delhi</td>\n",
       "      <td>1650</td>\n",
       "      <td>2135</td>\n",
       "      <td>285</td>\n",
       "      <td>1</td>\n",
       "      <td>4.123917</td>\n",
       "      <td>1</td>\n",
       "      <td>1</td>\n",
       "    </tr>\n",
       "  </tbody>\n",
       "</table>\n",
       "</div>"
      ],
      "text/plain": [
       "  Airline Date_of_Journey    Source Destination  Dep_Time  Arrival_Time  \\\n",
       "0    Rare      2019-03-24  Banglore   New Delhi      2220           110   \n",
       "1    Rare      2019-01-05   Kolkata    Banglore       550          1315   \n",
       "2    Rare      2019-09-06     Delhi      Cochin       925           425   \n",
       "3    Rare      2019-12-05   Kolkata    Banglore      1805          2330   \n",
       "4    Rare      2019-01-03  Banglore   New Delhi      1650          2135   \n",
       "\n",
       "   Duration  Total_Stops     Price  Month_of_Journey  Week_of_Journey  \n",
       "0       170            0  3.590730                 3               12  \n",
       "1       445            2  3.884342                 1                1  \n",
       "2      1140            2  4.142452                 9               36  \n",
       "3       325            1  3.793651                12               49  \n",
       "4       285            1  4.123917                 1                1  "
      ]
     },
     "execution_count": 39,
     "metadata": {},
     "output_type": "execute_result"
    }
   ],
   "source": [
    "train_df.head()"
   ]
  },
  {
   "cell_type": "code",
   "execution_count": 40,
   "metadata": {},
   "outputs": [],
   "source": [
    "# Dropping Date of Journey column\n",
    "\n",
    "train_df.drop(\"Date_of_Journey\", axis=1, inplace=True)\n",
    "\n",
    "test_df.drop(\"Date_of_Journey\", axis=1, inplace=True)"
   ]
  },
  {
   "cell_type": "code",
   "execution_count": 41,
   "metadata": {},
   "outputs": [
    {
     "name": "stdout",
     "output_type": "stream",
     "text": [
      "<class 'pandas.core.frame.DataFrame'>\n",
      "RangeIndex: 10674 entries, 0 to 10673\n",
      "Data columns (total 10 columns):\n",
      "Airline             10674 non-null object\n",
      "Source              10674 non-null object\n",
      "Destination         10674 non-null object\n",
      "Dep_Time            10674 non-null int32\n",
      "Arrival_Time        10674 non-null int32\n",
      "Duration            10674 non-null int64\n",
      "Total_Stops         10674 non-null int8\n",
      "Price               10674 non-null float64\n",
      "Month_of_Journey    10674 non-null int64\n",
      "Week_of_Journey     10674 non-null int64\n",
      "dtypes: float64(1), int32(2), int64(3), int8(1), object(3)\n",
      "memory usage: 677.6+ KB\n"
     ]
    }
   ],
   "source": [
    "train_df.info()"
   ]
  },
  {
   "cell_type": "markdown",
   "metadata": {},
   "source": [
    "##### One-Hot Encoding to handle categorical data"
   ]
  },
  {
   "cell_type": "code",
   "execution_count": 42,
   "metadata": {},
   "outputs": [],
   "source": [
    "train_df = pd.get_dummies(train_df, drop_first=True)\n",
    "\n",
    "test_df = pd.get_dummies(test_df, drop_first=True)"
   ]
  },
  {
   "cell_type": "code",
   "execution_count": 43,
   "metadata": {},
   "outputs": [
    {
     "data": {
      "text/html": [
       "<div>\n",
       "<style scoped>\n",
       "    .dataframe tbody tr th:only-of-type {\n",
       "        vertical-align: middle;\n",
       "    }\n",
       "\n",
       "    .dataframe tbody tr th {\n",
       "        vertical-align: top;\n",
       "    }\n",
       "\n",
       "    .dataframe thead th {\n",
       "        text-align: right;\n",
       "    }\n",
       "</style>\n",
       "<table border=\"1\" class=\"dataframe\">\n",
       "  <thead>\n",
       "    <tr style=\"text-align: right;\">\n",
       "      <th></th>\n",
       "      <th>Dep_Time</th>\n",
       "      <th>Arrival_Time</th>\n",
       "      <th>Duration</th>\n",
       "      <th>Total_Stops</th>\n",
       "      <th>Price</th>\n",
       "      <th>Month_of_Journey</th>\n",
       "      <th>Week_of_Journey</th>\n",
       "      <th>Source_Chennai</th>\n",
       "      <th>Source_Delhi</th>\n",
       "      <th>Source_Kolkata</th>\n",
       "      <th>Source_Mumbai</th>\n",
       "      <th>Destination_Cochin</th>\n",
       "      <th>Destination_Hyderabad</th>\n",
       "      <th>Destination_Kolkata</th>\n",
       "      <th>Destination_New Delhi</th>\n",
       "    </tr>\n",
       "  </thead>\n",
       "  <tbody>\n",
       "    <tr>\n",
       "      <th>0</th>\n",
       "      <td>2220</td>\n",
       "      <td>110</td>\n",
       "      <td>170</td>\n",
       "      <td>0</td>\n",
       "      <td>3.590730</td>\n",
       "      <td>3</td>\n",
       "      <td>12</td>\n",
       "      <td>0</td>\n",
       "      <td>0</td>\n",
       "      <td>0</td>\n",
       "      <td>0</td>\n",
       "      <td>0</td>\n",
       "      <td>0</td>\n",
       "      <td>0</td>\n",
       "      <td>1</td>\n",
       "    </tr>\n",
       "    <tr>\n",
       "      <th>1</th>\n",
       "      <td>550</td>\n",
       "      <td>1315</td>\n",
       "      <td>445</td>\n",
       "      <td>2</td>\n",
       "      <td>3.884342</td>\n",
       "      <td>1</td>\n",
       "      <td>1</td>\n",
       "      <td>0</td>\n",
       "      <td>0</td>\n",
       "      <td>1</td>\n",
       "      <td>0</td>\n",
       "      <td>0</td>\n",
       "      <td>0</td>\n",
       "      <td>0</td>\n",
       "      <td>0</td>\n",
       "    </tr>\n",
       "    <tr>\n",
       "      <th>2</th>\n",
       "      <td>925</td>\n",
       "      <td>425</td>\n",
       "      <td>1140</td>\n",
       "      <td>2</td>\n",
       "      <td>4.142452</td>\n",
       "      <td>9</td>\n",
       "      <td>36</td>\n",
       "      <td>0</td>\n",
       "      <td>1</td>\n",
       "      <td>0</td>\n",
       "      <td>0</td>\n",
       "      <td>1</td>\n",
       "      <td>0</td>\n",
       "      <td>0</td>\n",
       "      <td>0</td>\n",
       "    </tr>\n",
       "    <tr>\n",
       "      <th>3</th>\n",
       "      <td>1805</td>\n",
       "      <td>2330</td>\n",
       "      <td>325</td>\n",
       "      <td>1</td>\n",
       "      <td>3.793651</td>\n",
       "      <td>12</td>\n",
       "      <td>49</td>\n",
       "      <td>0</td>\n",
       "      <td>0</td>\n",
       "      <td>1</td>\n",
       "      <td>0</td>\n",
       "      <td>0</td>\n",
       "      <td>0</td>\n",
       "      <td>0</td>\n",
       "      <td>0</td>\n",
       "    </tr>\n",
       "    <tr>\n",
       "      <th>4</th>\n",
       "      <td>1650</td>\n",
       "      <td>2135</td>\n",
       "      <td>285</td>\n",
       "      <td>1</td>\n",
       "      <td>4.123917</td>\n",
       "      <td>1</td>\n",
       "      <td>1</td>\n",
       "      <td>0</td>\n",
       "      <td>0</td>\n",
       "      <td>0</td>\n",
       "      <td>0</td>\n",
       "      <td>0</td>\n",
       "      <td>0</td>\n",
       "      <td>0</td>\n",
       "      <td>1</td>\n",
       "    </tr>\n",
       "  </tbody>\n",
       "</table>\n",
       "</div>"
      ],
      "text/plain": [
       "   Dep_Time  Arrival_Time  Duration  Total_Stops     Price  Month_of_Journey  \\\n",
       "0      2220           110       170            0  3.590730                 3   \n",
       "1       550          1315       445            2  3.884342                 1   \n",
       "2       925           425      1140            2  4.142452                 9   \n",
       "3      1805          2330       325            1  3.793651                12   \n",
       "4      1650          2135       285            1  4.123917                 1   \n",
       "\n",
       "   Week_of_Journey  Source_Chennai  Source_Delhi  Source_Kolkata  \\\n",
       "0               12               0             0               0   \n",
       "1                1               0             0               1   \n",
       "2               36               0             1               0   \n",
       "3               49               0             0               1   \n",
       "4                1               0             0               0   \n",
       "\n",
       "   Source_Mumbai  Destination_Cochin  Destination_Hyderabad  \\\n",
       "0              0                   0                      0   \n",
       "1              0                   0                      0   \n",
       "2              0                   1                      0   \n",
       "3              0                   0                      0   \n",
       "4              0                   0                      0   \n",
       "\n",
       "   Destination_Kolkata  Destination_New Delhi  \n",
       "0                    0                      1  \n",
       "1                    0                      0  \n",
       "2                    0                      0  \n",
       "3                    0                      0  \n",
       "4                    0                      1  "
      ]
     },
     "execution_count": 43,
     "metadata": {},
     "output_type": "execute_result"
    }
   ],
   "source": [
    "train_df.head()"
   ]
  },
  {
   "cell_type": "code",
   "execution_count": 44,
   "metadata": {},
   "outputs": [],
   "source": [
    "# Separating input features and labels to prepare for ML algorithm\n",
    "\n",
    "y = train_df[\"Price\"].copy()\n",
    "X = train_df.drop(\"Price\", axis=1)"
   ]
  },
  {
   "cell_type": "code",
   "execution_count": 45,
   "metadata": {},
   "outputs": [],
   "source": [
    "# Feature Scaling using Standardization\n",
    "\n",
    "from sklearn.preprocessing import StandardScaler\n",
    "\n",
    "scaler = StandardScaler()\n",
    "X = pd.DataFrame(scaler.fit_transform(X), columns=X.columns)\n",
    "test_df = pd.DataFrame(scaler.fit_transform(test_df), columns=test_df.columns)"
   ]
  },
  {
   "cell_type": "code",
   "execution_count": 46,
   "metadata": {},
   "outputs": [
    {
     "data": {
      "text/html": [
       "<div>\n",
       "<style scoped>\n",
       "    .dataframe tbody tr th:only-of-type {\n",
       "        vertical-align: middle;\n",
       "    }\n",
       "\n",
       "    .dataframe tbody tr th {\n",
       "        vertical-align: top;\n",
       "    }\n",
       "\n",
       "    .dataframe thead th {\n",
       "        text-align: right;\n",
       "    }\n",
       "</style>\n",
       "<table border=\"1\" class=\"dataframe\">\n",
       "  <thead>\n",
       "    <tr style=\"text-align: right;\">\n",
       "      <th></th>\n",
       "      <th>Dep_Time</th>\n",
       "      <th>Arrival_Time</th>\n",
       "      <th>Duration</th>\n",
       "      <th>Total_Stops</th>\n",
       "      <th>Month_of_Journey</th>\n",
       "      <th>Week_of_Journey</th>\n",
       "      <th>Source_Chennai</th>\n",
       "      <th>Source_Delhi</th>\n",
       "      <th>Source_Kolkata</th>\n",
       "      <th>Source_Mumbai</th>\n",
       "      <th>Destination_Cochin</th>\n",
       "      <th>Destination_Hyderabad</th>\n",
       "      <th>Destination_Kolkata</th>\n",
       "      <th>Destination_New Delhi</th>\n",
       "    </tr>\n",
       "  </thead>\n",
       "  <tbody>\n",
       "    <tr>\n",
       "      <th>0</th>\n",
       "      <td>1.647469</td>\n",
       "      <td>-1.828822</td>\n",
       "      <td>-0.931739</td>\n",
       "      <td>-0.403222</td>\n",
       "      <td>-0.849626</td>\n",
       "      <td>-0.779455</td>\n",
       "      <td>-0.192394</td>\n",
       "      <td>-0.859488</td>\n",
       "      <td>-0.606577</td>\n",
       "      <td>-0.264312</td>\n",
       "      <td>-0.859488</td>\n",
       "      <td>-0.264312</td>\n",
       "      <td>-0.192394</td>\n",
       "      <td>1.968241</td>\n",
       "    </tr>\n",
       "    <tr>\n",
       "      <th>1</th>\n",
       "      <td>-1.259004</td>\n",
       "      <td>-0.065720</td>\n",
       "      <td>-0.390390</td>\n",
       "      <td>0.736908</td>\n",
       "      <td>-1.519263</td>\n",
       "      <td>-1.640468</td>\n",
       "      <td>-0.192394</td>\n",
       "      <td>-0.859488</td>\n",
       "      <td>1.648596</td>\n",
       "      <td>-0.264312</td>\n",
       "      <td>-0.859488</td>\n",
       "      <td>-0.264312</td>\n",
       "      <td>-0.192394</td>\n",
       "      <td>-0.508068</td>\n",
       "    </tr>\n",
       "    <tr>\n",
       "      <th>2</th>\n",
       "      <td>-0.606353</td>\n",
       "      <td>-1.367928</td>\n",
       "      <td>0.977745</td>\n",
       "      <td>0.736908</td>\n",
       "      <td>1.159288</td>\n",
       "      <td>1.099121</td>\n",
       "      <td>-0.192394</td>\n",
       "      <td>1.163483</td>\n",
       "      <td>-0.606577</td>\n",
       "      <td>-0.264312</td>\n",
       "      <td>1.163483</td>\n",
       "      <td>-0.264312</td>\n",
       "      <td>-0.192394</td>\n",
       "      <td>-0.508068</td>\n",
       "    </tr>\n",
       "    <tr>\n",
       "      <th>3</th>\n",
       "      <td>0.925202</td>\n",
       "      <td>1.419383</td>\n",
       "      <td>-0.626615</td>\n",
       "      <td>0.166843</td>\n",
       "      <td>2.163744</td>\n",
       "      <td>2.116683</td>\n",
       "      <td>-0.192394</td>\n",
       "      <td>-0.859488</td>\n",
       "      <td>1.648596</td>\n",
       "      <td>-0.264312</td>\n",
       "      <td>-0.859488</td>\n",
       "      <td>-0.264312</td>\n",
       "      <td>-0.192394</td>\n",
       "      <td>-0.508068</td>\n",
       "    </tr>\n",
       "    <tr>\n",
       "      <th>4</th>\n",
       "      <td>0.655439</td>\n",
       "      <td>1.134067</td>\n",
       "      <td>-0.705357</td>\n",
       "      <td>0.166843</td>\n",
       "      <td>-1.519263</td>\n",
       "      <td>-1.640468</td>\n",
       "      <td>-0.192394</td>\n",
       "      <td>-0.859488</td>\n",
       "      <td>-0.606577</td>\n",
       "      <td>-0.264312</td>\n",
       "      <td>-0.859488</td>\n",
       "      <td>-0.264312</td>\n",
       "      <td>-0.192394</td>\n",
       "      <td>1.968241</td>\n",
       "    </tr>\n",
       "  </tbody>\n",
       "</table>\n",
       "</div>"
      ],
      "text/plain": [
       "   Dep_Time  Arrival_Time  Duration  Total_Stops  Month_of_Journey  \\\n",
       "0  1.647469     -1.828822 -0.931739    -0.403222         -0.849626   \n",
       "1 -1.259004     -0.065720 -0.390390     0.736908         -1.519263   \n",
       "2 -0.606353     -1.367928  0.977745     0.736908          1.159288   \n",
       "3  0.925202      1.419383 -0.626615     0.166843          2.163744   \n",
       "4  0.655439      1.134067 -0.705357     0.166843         -1.519263   \n",
       "\n",
       "   Week_of_Journey  Source_Chennai  Source_Delhi  Source_Kolkata  \\\n",
       "0        -0.779455       -0.192394     -0.859488       -0.606577   \n",
       "1        -1.640468       -0.192394     -0.859488        1.648596   \n",
       "2         1.099121       -0.192394      1.163483       -0.606577   \n",
       "3         2.116683       -0.192394     -0.859488        1.648596   \n",
       "4        -1.640468       -0.192394     -0.859488       -0.606577   \n",
       "\n",
       "   Source_Mumbai  Destination_Cochin  Destination_Hyderabad  \\\n",
       "0      -0.264312           -0.859488              -0.264312   \n",
       "1      -0.264312           -0.859488              -0.264312   \n",
       "2      -0.264312            1.163483              -0.264312   \n",
       "3      -0.264312           -0.859488              -0.264312   \n",
       "4      -0.264312           -0.859488              -0.264312   \n",
       "\n",
       "   Destination_Kolkata  Destination_New Delhi  \n",
       "0            -0.192394               1.968241  \n",
       "1            -0.192394              -0.508068  \n",
       "2            -0.192394              -0.508068  \n",
       "3            -0.192394              -0.508068  \n",
       "4            -0.192394               1.968241  "
      ]
     },
     "execution_count": 46,
     "metadata": {},
     "output_type": "execute_result"
    }
   ],
   "source": [
    "X.head()"
   ]
  },
  {
   "cell_type": "code",
   "execution_count": 47,
   "metadata": {},
   "outputs": [],
   "source": [
    "# Keeping a separate validation set to test\n",
    "\n",
    "from sklearn.model_selection import train_test_split\n",
    "\n",
    "X_train, X_val, y_train, y_val = train_test_split(X, y, test_size=0.2, random_state=42)"
   ]
  },
  {
   "cell_type": "markdown",
   "metadata": {},
   "source": [
    "### Applying Machine Learning Models"
   ]
  },
  {
   "cell_type": "markdown",
   "metadata": {},
   "source": [
    "##### Linear Regression"
   ]
  },
  {
   "cell_type": "code",
   "execution_count": 48,
   "metadata": {},
   "outputs": [
    {
     "data": {
      "text/plain": [
       "LinearRegression()"
      ]
     },
     "execution_count": 48,
     "metadata": {},
     "output_type": "execute_result"
    }
   ],
   "source": [
    "from sklearn.linear_model import LinearRegression\n",
    "\n",
    "lnr = LinearRegression()\n",
    "lnr.fit(X_train, y_train)"
   ]
  },
  {
   "cell_type": "code",
   "execution_count": 49,
   "metadata": {},
   "outputs": [],
   "source": [
    "from sklearn import metrics"
   ]
  },
  {
   "cell_type": "code",
   "execution_count": 50,
   "metadata": {},
   "outputs": [
    {
     "data": {
      "text/plain": [
       "0.16266703951954936"
      ]
     },
     "execution_count": 50,
     "metadata": {},
     "output_type": "execute_result"
    }
   ],
   "source": [
    "lnr_pred = lnr.predict(X_train)\n",
    "lnr_rmse = np.sqrt(metrics.mean_squared_error(lnr_pred, y_train))\n",
    "# lnr_r2_score = metrics.adjusted_rand_score(lnr_pred, y_train)\n",
    "\n",
    "lnr_rmse\n",
    "# lnr_r2_score"
   ]
  },
  {
   "cell_type": "code",
   "execution_count": 51,
   "metadata": {},
   "outputs": [
    {
     "data": {
      "image/png": "[encoded data removed]",
      "text/plain": [
       "<Figure size 432x288 with 1 Axes>"
      ]
     },
     "metadata": {
      "needs_background": "light"
     },
     "output_type": "display_data"
    }
   ],
   "source": [
    "plt.scatter(lnr_pred, y_train)\n",
    "plt.show()"
   ]
  },
  {
   "cell_type": "code",
   "execution_count": 52,
   "metadata": {},
   "outputs": [
    {
     "data": {
      "image/png": "[encoded data removed]",
      "text/plain": [
       "<Figure size 432x288 with 1 Axes>"
      ]
     },
     "metadata": {
      "needs_background": "light"
     },
     "output_type": "display_data"
    }
   ],
   "source": [
    "plt.hist(lnr_pred-y_train)\n",
    "plt.show()"
   ]
  },
  {
   "cell_type": "markdown",
   "metadata": {},
   "source": [
    "*Applying Cross-validation to test if the model is Overfitting*"
   ]
  },
  {
   "cell_type": "code",
   "execution_count": 53,
   "metadata": {},
   "outputs": [
    {
     "data": {
      "text/plain": [
       "array([0.16095809, 0.16066436, 0.16132578, 0.16617536, 0.1610125 ])"
      ]
     },
     "execution_count": 53,
     "metadata": {},
     "output_type": "execute_result"
    }
   ],
   "source": [
    "from sklearn.model_selection import cross_val_score\n",
    "\n",
    "lnr_cv_scores = cross_val_score(lnr, X, y, scoring=\"neg_mean_squared_error\", cv=5)\n",
    "lnr_cv_rmse = np.sqrt(-lnr_cv_scores)\n",
    "lnr_cv_rmse"
   ]
  },
  {
   "cell_type": "markdown",
   "metadata": {},
   "source": [
    "*Predicting on the Validation Set*"
   ]
  },
  {
   "cell_type": "code",
   "execution_count": 54,
   "metadata": {},
   "outputs": [
    {
     "data": {
      "text/plain": [
       "0.15789272987844358"
      ]
     },
     "execution_count": 54,
     "metadata": {},
     "output_type": "execute_result"
    }
   ],
   "source": [
    "lnr_pred_val = lnr.predict(X_val)\n",
    "lnr_rmse_val = np.sqrt(metrics.mean_squared_error(lnr_pred_val, y_val))\n",
    "# lnr_r2_score = metrics.adjusted_rand_score(lnr_pred, y_train)\n",
    "\n",
    "lnr_rmse_val\n",
    "# lnr_r2_score"
   ]
  },
  {
   "cell_type": "markdown",
   "metadata": {},
   "source": [
    "*Predicting on the Test Set*"
   ]
  },
  {
   "cell_type": "code",
   "execution_count": 55,
   "metadata": {},
   "outputs": [
    {
     "data": {
      "text/html": [
       "<div>\n",
       "<style scoped>\n",
       "    .dataframe tbody tr th:only-of-type {\n",
       "        vertical-align: middle;\n",
       "    }\n",
       "\n",
       "    .dataframe tbody tr th {\n",
       "        vertical-align: top;\n",
       "    }\n",
       "\n",
       "    .dataframe thead th {\n",
       "        text-align: right;\n",
       "    }\n",
       "</style>\n",
       "<table border=\"1\" class=\"dataframe\">\n",
       "  <thead>\n",
       "    <tr style=\"text-align: right;\">\n",
       "      <th></th>\n",
       "      <th>Dep_Time</th>\n",
       "      <th>Arrival_Time</th>\n",
       "      <th>Duration</th>\n",
       "      <th>Total_Stops</th>\n",
       "      <th>Month_of_Journey</th>\n",
       "      <th>Week_of_Journey</th>\n",
       "      <th>Source_Chennai</th>\n",
       "      <th>Source_Delhi</th>\n",
       "      <th>Source_Kolkata</th>\n",
       "      <th>Source_Mumbai</th>\n",
       "      <th>Destination_Cochin</th>\n",
       "      <th>Destination_Hyderabad</th>\n",
       "      <th>Destination_Kolkata</th>\n",
       "      <th>Destination_New Delhi</th>\n",
       "    </tr>\n",
       "  </thead>\n",
       "  <tbody>\n",
       "    <tr>\n",
       "      <th>0</th>\n",
       "      <td>0.782716</td>\n",
       "      <td>-1.365130</td>\n",
       "      <td>0.030389</td>\n",
       "      <td>0.161544</td>\n",
       "      <td>0.129089</td>\n",
       "      <td>0.064183</td>\n",
       "      <td>-0.169972</td>\n",
       "      <td>1.154448</td>\n",
       "      <td>-0.601714</td>\n",
       "      <td>-0.273586</td>\n",
       "      <td>1.154448</td>\n",
       "      <td>-0.273586</td>\n",
       "      <td>-0.169972</td>\n",
       "      <td>-0.512140</td>\n",
       "    </tr>\n",
       "    <tr>\n",
       "      <th>1</th>\n",
       "      <td>-1.170745</td>\n",
       "      <td>-0.517334</td>\n",
       "      <td>-0.796151</td>\n",
       "      <td>0.161544</td>\n",
       "      <td>2.101227</td>\n",
       "      <td>2.059379</td>\n",
       "      <td>-0.169972</td>\n",
       "      <td>-0.866215</td>\n",
       "      <td>1.661918</td>\n",
       "      <td>-0.273586</td>\n",
       "      <td>-0.866215</td>\n",
       "      <td>-0.273586</td>\n",
       "      <td>-0.169972</td>\n",
       "      <td>-0.512140</td>\n",
       "    </tr>\n",
       "    <tr>\n",
       "      <th>2</th>\n",
       "      <td>1.108293</td>\n",
       "      <td>0.736548</td>\n",
       "      <td>1.563970</td>\n",
       "      <td>0.161544</td>\n",
       "      <td>-0.199601</td>\n",
       "      <td>-0.089293</td>\n",
       "      <td>-0.169972</td>\n",
       "      <td>1.154448</td>\n",
       "      <td>-0.601714</td>\n",
       "      <td>-0.273586</td>\n",
       "      <td>1.154448</td>\n",
       "      <td>-0.273586</td>\n",
       "      <td>-0.169972</td>\n",
       "      <td>-0.512140</td>\n",
       "    </tr>\n",
       "    <tr>\n",
       "      <th>3</th>\n",
       "      <td>-0.853968</td>\n",
       "      <td>1.021522</td>\n",
       "      <td>0.279347</td>\n",
       "      <td>0.161544</td>\n",
       "      <td>-0.199601</td>\n",
       "      <td>-0.089293</td>\n",
       "      <td>-0.169972</td>\n",
       "      <td>1.154448</td>\n",
       "      <td>-0.601714</td>\n",
       "      <td>-0.273586</td>\n",
       "      <td>1.154448</td>\n",
       "      <td>-0.273586</td>\n",
       "      <td>-0.169972</td>\n",
       "      <td>-0.512140</td>\n",
       "    </tr>\n",
       "    <tr>\n",
       "      <th>4</th>\n",
       "      <td>1.882638</td>\n",
       "      <td>-1.621606</td>\n",
       "      <td>-0.935567</td>\n",
       "      <td>-0.398825</td>\n",
       "      <td>0.129089</td>\n",
       "      <td>0.294398</td>\n",
       "      <td>-0.169972</td>\n",
       "      <td>-0.866215</td>\n",
       "      <td>-0.601714</td>\n",
       "      <td>-0.273586</td>\n",
       "      <td>-0.866215</td>\n",
       "      <td>-0.273586</td>\n",
       "      <td>-0.169972</td>\n",
       "      <td>1.952591</td>\n",
       "    </tr>\n",
       "  </tbody>\n",
       "</table>\n",
       "</div>"
      ],
      "text/plain": [
       "   Dep_Time  Arrival_Time  Duration  Total_Stops  Month_of_Journey  \\\n",
       "0  0.782716     -1.365130  0.030389     0.161544          0.129089   \n",
       "1 -1.170745     -0.517334 -0.796151     0.161544          2.101227   \n",
       "2  1.108293      0.736548  1.563970     0.161544         -0.199601   \n",
       "3 -0.853968      1.021522  0.279347     0.161544         -0.199601   \n",
       "4  1.882638     -1.621606 -0.935567    -0.398825          0.129089   \n",
       "\n",
       "   Week_of_Journey  Source_Chennai  Source_Delhi  Source_Kolkata  \\\n",
       "0         0.064183       -0.169972      1.154448       -0.601714   \n",
       "1         2.059379       -0.169972     -0.866215        1.661918   \n",
       "2        -0.089293       -0.169972      1.154448       -0.601714   \n",
       "3        -0.089293       -0.169972      1.154448       -0.601714   \n",
       "4         0.294398       -0.169972     -0.866215       -0.601714   \n",
       "\n",
       "   Source_Mumbai  Destination_Cochin  Destination_Hyderabad  \\\n",
       "0      -0.273586            1.154448              -0.273586   \n",
       "1      -0.273586           -0.866215              -0.273586   \n",
       "2      -0.273586            1.154448              -0.273586   \n",
       "3      -0.273586            1.154448              -0.273586   \n",
       "4      -0.273586           -0.866215              -0.273586   \n",
       "\n",
       "   Destination_Kolkata  Destination_New Delhi  \n",
       "0            -0.169972              -0.512140  \n",
       "1            -0.169972              -0.512140  \n",
       "2            -0.169972              -0.512140  \n",
       "3            -0.169972              -0.512140  \n",
       "4            -0.169972               1.952591  "
      ]
     },
     "execution_count": 55,
     "metadata": {},
     "output_type": "execute_result"
    }
   ],
   "source": [
    "test_df.head()"
   ]
  },
  {
   "cell_type": "code",
   "execution_count": 56,
   "metadata": {},
   "outputs": [],
   "source": [
    "test_pred = lnr.predict(test_df)"
   ]
  },
  {
   "cell_type": "code",
   "execution_count": 57,
   "metadata": {},
   "outputs": [
    {
     "data": {
      "text/html": [
       "<div>\n",
       "<style scoped>\n",
       "    .dataframe tbody tr th:only-of-type {\n",
       "        vertical-align: middle;\n",
       "    }\n",
       "\n",
       "    .dataframe tbody tr th {\n",
       "        vertical-align: top;\n",
       "    }\n",
       "\n",
       "    .dataframe thead th {\n",
       "        text-align: right;\n",
       "    }\n",
       "</style>\n",
       "<table border=\"1\" class=\"dataframe\">\n",
       "  <thead>\n",
       "    <tr style=\"text-align: right;\">\n",
       "      <th></th>\n",
       "      <th>Price</th>\n",
       "    </tr>\n",
       "  </thead>\n",
       "  <tbody>\n",
       "  </tbody>\n",
       "</table>\n",
       "</div>"
      ],
      "text/plain": [
       "Empty DataFrame\n",
       "Columns: [Price]\n",
       "Index: []"
      ]
     },
     "execution_count": 57,
     "metadata": {},
     "output_type": "execute_result"
    }
   ],
   "source": [
    "# final_pred = round(pd.DataFrame(np.exp(test_pred), columns=[\"Price\"]),1)\n",
    "final_pred = round(pd.DataFrame(10**test_pred, columns=[\"Price\"]),1)\n",
    "final_pred[final_pred[\"Price\"]<0]"
   ]
  },
  {
   "cell_type": "code",
   "execution_count": 58,
   "metadata": {},
   "outputs": [],
   "source": [
    "final_pred.to_excel(\"submission.xlsx\", index=False )"
   ]
  },
  {
   "cell_type": "code",
   "execution_count": 59,
   "metadata": {},
   "outputs": [
    {
     "data": {
      "text/plain": [
       "0.9856280331776386"
      ]
     },
     "execution_count": 59,
     "metadata": {},
     "output_type": "execute_result"
    }
   ],
   "source": [
    "1 - np.sqrt(np.square(np.log10(lnr_pred +1) - np.log10(y_train +1)).mean())"
   ]
  },
  {
   "cell_type": "markdown",
   "metadata": {},
   "source": [
    "#### Regularization Ridge and Lasso"
   ]
  },
  {
   "cell_type": "code",
   "execution_count": 60,
   "metadata": {},
   "outputs": [],
   "source": [
    "from sklearn.linear_model import Ridge, Lasso"
   ]
  },
  {
   "cell_type": "code",
   "execution_count": 61,
   "metadata": {},
   "outputs": [],
   "source": [
    "alpha = [-100, -50, -30, -10, 0, 10, 30, 50, 100]"
   ]
  },
  {
   "cell_type": "markdown",
   "metadata": {},
   "source": [
    "##### Ridge Regularization"
   ]
  },
  {
   "cell_type": "code",
   "execution_count": 62,
   "metadata": {},
   "outputs": [
    {
     "name": "stdout",
     "output_type": "stream",
     "text": [
      "-100 0.16995027129994678\n",
      "-50 0.21033069462822393\n",
      "-30 0.19316643469841324\n",
      "-10 0.16300663960960227\n",
      "0 0.16434579421891843\n",
      "10 0.16278505301883164\n",
      "30 0.1632002254371621\n",
      "50 0.16355495578818768\n",
      "100 0.1641197401254374\n"
     ]
    }
   ],
   "source": [
    "for i in alpha:\n",
    "    rgr = Ridge(alpha=i)\n",
    "    rgr.fit(X_train, y_train)\n",
    "    rgr_pred = rgr.predict(X_train)\n",
    "    rgr_rmse = np.sqrt(metrics.mean_squared_error(rgr_pred, y_train))\n",
    "    # lnr_r2_score = metrics.adjusted_rand_score(lnr_pred, y_train)\n",
    "    print(i, rgr_rmse)"
   ]
  },
  {
   "cell_type": "markdown",
   "metadata": {},
   "source": [
    "##### Lasso Regularization"
   ]
  },
  {
   "cell_type": "code",
   "execution_count": 63,
   "metadata": {},
   "outputs": [
    {
     "name": "stdout",
     "output_type": "stream",
     "text": [
      "-100 2121.4484569373085\n",
      "-50 1060.7242362583756\n",
      "-30 636.4345538074979\n",
      "-10 212.1449022363464\n"
     ]
    },
    {
     "name": "stderr",
     "output_type": "stream",
     "text": [
      "C:\\Users\\pmaht\\Anaconda3\\lib\\site-packages\\ipykernel_launcher.py:3: UserWarning: With alpha=0, this algorithm does not converge well. You are advised to use the LinearRegression estimator\n",
      "  This is separate from the ipykernel package so we can avoid doing imports until\n",
      "C:\\Users\\pmaht\\Anaconda3\\lib\\site-packages\\sklearn\\linear_model\\_coordinate_descent.py:531: UserWarning: Coordinate descent with no regularization may lead to unexpected results and is discouraged.\n",
      "  positive)\n"
     ]
    },
    {
     "name": "stdout",
     "output_type": "stream",
     "text": [
      "0 0.16266703955026296\n",
      "10 0.22162719102827283\n",
      "30 0.22162719102827283\n",
      "50 0.22162719102827283\n",
      "100 0.22162719102827283\n"
     ]
    },
    {
     "name": "stderr",
     "output_type": "stream",
     "text": [
      "C:\\Users\\pmaht\\Anaconda3\\lib\\site-packages\\sklearn\\linear_model\\_coordinate_descent.py:531: ConvergenceWarning: Objective did not converge. You might want to increase the number of iterations. Duality gap: 112.97338549544182, tolerance: 0.04194238261865218\n",
      "  positive)\n"
     ]
    }
   ],
   "source": [
    "for i in alpha:\n",
    "    lsr = Lasso(alpha=i)\n",
    "    lsr.fit(X_train, y_train)\n",
    "    lsr_pred = lsr.predict(X_train)\n",
    "    lsr_rmse = np.sqrt(metrics.mean_squared_error(lsr_pred, y_train))\n",
    "    # lnr_r2_score = metrics.adjusted_rand_score(lnr_pred, y_train)\n",
    "    print(i,lsr_rmse)"
   ]
  },
  {
   "cell_type": "markdown",
   "metadata": {},
   "source": [
    "* There isn't any improvement from the Linear Model"
   ]
  },
  {
   "cell_type": "markdown",
   "metadata": {},
   "source": [
    "#### Random Forest"
   ]
  },
  {
   "cell_type": "code",
   "execution_count": 64,
   "metadata": {},
   "outputs": [],
   "source": [
    "train_df = pd.read_excel(\"./Data/Flight_Ticket_Participant_Datasets/Data_Train.xlsx\")"
   ]
  },
  {
   "cell_type": "code",
   "execution_count": 65,
   "metadata": {},
   "outputs": [
    {
     "data": {
      "text/plain": [
       "0.0615579584132061"
      ]
     },
     "execution_count": 65,
     "metadata": {},
     "output_type": "execute_result"
    }
   ],
   "source": [
    "from sklearn.ensemble import RandomForestRegressor\n",
    "\n",
    "rfr = RandomForestRegressor()\n",
    "rfr.fit(X_train, y_train)\n",
    "\n",
    "rfr_pred = rfr.predict(X_train)\n",
    "rfr_rmse = np.sqrt(metrics.mean_squared_error(rfr_pred, y_train))\n",
    "# lnr_r2_score = metrics.adjusted_rand_score(lnr_pred, y_train)\n",
    "\n",
    "rfr_rmse"
   ]
  },
  {
   "cell_type": "code",
   "execution_count": 66,
   "metadata": {},
   "outputs": [
    {
     "data": {
      "text/plain": [
       "array([0.10325617, 0.09944467, 0.10251193, 0.10947914, 0.10846178])"
      ]
     },
     "execution_count": 66,
     "metadata": {},
     "output_type": "execute_result"
    }
   ],
   "source": [
    "rfr_cv_scores = cross_val_score(rfr, X, y, scoring=\"neg_mean_squared_error\", cv=5)\n",
    "rfr_cv_rmse = np.sqrt(-rfr_cv_scores)\n",
    "rfr_cv_rmse"
   ]
  },
  {
   "cell_type": "code",
   "execution_count": 68,
   "metadata": {},
   "outputs": [
    {
     "data": {
      "text/plain": [
       "0.994546757405704"
      ]
     },
     "execution_count": 68,
     "metadata": {},
     "output_type": "execute_result"
    }
   ],
   "source": [
    "1 - np.sqrt(np.square(np.log10(rfr_pred +1) - np.log10(y_train +1)).mean())"
   ]
  },
  {
   "cell_type": "code",
   "execution_count": 69,
   "metadata": {},
   "outputs": [
    {
     "data": {
      "text/html": [
       "<div>\n",
       "<style scoped>\n",
       "    .dataframe tbody tr th:only-of-type {\n",
       "        vertical-align: middle;\n",
       "    }\n",
       "\n",
       "    .dataframe tbody tr th {\n",
       "        vertical-align: top;\n",
       "    }\n",
       "\n",
       "    .dataframe thead th {\n",
       "        text-align: right;\n",
       "    }\n",
       "</style>\n",
       "<table border=\"1\" class=\"dataframe\">\n",
       "  <thead>\n",
       "    <tr style=\"text-align: right;\">\n",
       "      <th></th>\n",
       "      <th>Price</th>\n",
       "    </tr>\n",
       "  </thead>\n",
       "  <tbody>\n",
       "  </tbody>\n",
       "</table>\n",
       "</div>"
      ],
      "text/plain": [
       "Empty DataFrame\n",
       "Columns: [Price]\n",
       "Index: []"
      ]
     },
     "execution_count": 69,
     "metadata": {},
     "output_type": "execute_result"
    }
   ],
   "source": [
    "test_pred = lnr.predict(test_df)\n",
    "# final_pred = round(pd.DataFrame(np.exp(test_pred), columns=[\"Price\"]),1)\n",
    "final_pred = round(pd.DataFrame(10**test_pred, columns=[\"Price\"]),1)\n",
    "final_pred[final_pred[\"Price\"]<0]"
   ]
  },
  {
   "cell_type": "code",
   "execution_count": 70,
   "metadata": {},
   "outputs": [],
   "source": [
    "final_pred.to_excel(\"submission.xlsx\", index=False )"
   ]
  },
  {
   "cell_type": "markdown",
   "metadata": {},
   "source": [
    "# Conclusion"
   ]
  },
  {
   "cell_type": "markdown",
   "metadata": {},
   "source": [
    "* We performed an analysis on the input as well as the output feature to understand the data and also to decide if any transformations are required on any of them.\n",
    "* Feature Engineering steps included - \n",
    "    * Idenfication and Removal of Outliers\n",
    "    * Handling Missing Data\n",
    "    * Data Cleansing\n",
    "    * Handling Date Column\n",
    "    * Feature Extraction\n",
    "    * Normalization and Standardization\n",
    "* We applied Linear Regression model along with Regularization techniques - Ridge and Lasso to see if there was any overfitting.\n",
    "* We also used Random Forest and observed that it outperformed Linear Regression"
   ]
  }
 ],
 "metadata": {
  "kernelspec": {
   "display_name": "Python 3",
   "language": "python",
   "name": "python3"
  },
  "language_info": {
   "codemirror_mode": {
    "name": "ipython",
    "version": 3
   },
   "file_extension": ".py",
   "mimetype": "text/x-python",
   "name": "python",
   "nbconvert_exporter": "python",
   "pygments_lexer": "ipython3",
   "version": "3.7.3"
  }
 },
 "nbformat": 4,
 "nbformat_minor": 2
}
